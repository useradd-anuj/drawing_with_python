{
 "cells": [
  {
   "cell_type": "code",
   "execution_count": 503,
   "id": "679b86ef",
   "metadata": {},
   "outputs": [],
   "source": [
    "import cv2\n",
    "import matplotlib.pyplot as plt\n",
    "import numpy as np"
   ]
  },
  {
   "cell_type": "code",
   "execution_count": 504,
   "id": "5579d122",
   "metadata": {},
   "outputs": [],
   "source": [
    "canvas=np.full((600,600,3),255,dtype=np.uint8)"
   ]
  },
  {
   "cell_type": "code",
   "execution_count": 505,
   "id": "c6d82d1d",
   "metadata": {},
   "outputs": [],
   "source": [
    "def display(photo):\n",
    "    cv2.imshow(\"some\",photo)\n",
    "    cv2.waitKey()\n",
    "    cv2.destroyAllWindows()"
   ]
  },
  {
   "cell_type": "code",
   "execution_count": 506,
   "id": "70b46cab",
   "metadata": {},
   "outputs": [],
   "source": [
    "for angle in np.arange(0, 2 * np.pi, 1/2/r):\n",
    "  for i in range(109,112): \n",
    "    x = int( 435 + i * np.cos(angle))\n",
    "    y = int( 300 + i * np.sin(angle))\n",
    "    canvas[x,y] = [0]"
   ]
  },
  {
   "cell_type": "code",
   "execution_count": 507,
   "id": "0528116f",
   "metadata": {},
   "outputs": [],
   "source": [
    "for angle in np.arange(0, 2 * np.pi, 1/2/r):\n",
    "  for i in range(55,58): \n",
    "    x = int( 269 + i * np.cos(angle))\n",
    "    y = int( 300 + i * np.sin(angle))\n",
    "    canvas[x,y] = [0]"
   ]
  },
  {
   "cell_type": "code",
   "execution_count": null,
   "id": "3f8d55f9",
   "metadata": {},
   "outputs": [],
   "source": [
    "for angle in np.arange(0, 2 * np.pi ,1/2/r):\n",
    "  for i in range(0,5): \n",
    "    x = int( 249 + i * np.cos(angle))\n",
    "    y = int( 275 + i * np.sin(angle))\n",
    "    canvas[x,y] = [0]\n",
    "    \n",
    "    \n",
    "for angle in np.arange(0, 2 * np.pi ,1/2/r):\n",
    "  for i in range(0,5): \n",
    "    x = int( 249 + i * np.cos(angle))\n",
    "    y = int( 325 + i * np.sin(angle))\n",
    "    canvas[x,y] = [0]\n",
    "    \n",
    "for angle in np.arange(0, 2 * np.pi, 1/2/r):\n",
    "  for i in range(0,5): \n",
    "    x = int( 435 + i * np.cos(angle))\n",
    "    y = int( 300 + i * np.sin(angle))\n",
    "    canvas[x,y] = [0]\n",
    "    \n",
    "for angle in np.arange(0, 2 * np.pi, 1/2/r):\n",
    "  for i in range(0,5): \n",
    "    x = int( 400 + i * np.cos(angle))\n",
    "    y = int( 300 + i * np.sin(angle))\n",
    "    canvas[x,y] = [0]\n",
    "    \n",
    "for angle in np.arange(0, 2 * np.pi, 1/2/r):\n",
    "  for i in range(0,5): \n",
    "    x = int( 470 + i * np.cos(angle))\n",
    "    y = int( 300 + i * np.sin(angle))\n",
    "    canvas[x,y] = [0]\n",
    "    \n",
    "for angle in np.arange((7 * np.pi/4)/2 + np.pi, (9 * np.pi/4)/2 + np.pi , 1/2/r): \n",
    "    x = int( 244 + 64 * np.cos(angle))\n",
    "    y = int( 300 + 64 * np.sin(angle))\n",
    "    canvas[x,y] = [0]"
   ]
  },
  {
   "cell_type": "code",
   "execution_count": 493,
   "id": "aa361180",
   "metadata": {},
   "outputs": [],
   "source": [
    "for i in range(-5,5):\n",
    "    canvas[224-i,300-65:300+65]=[0,0,255]"
   ]
  },
  {
   "cell_type": "code",
   "execution_count": 494,
   "id": "58d4eb80",
   "metadata": {},
   "outputs": [],
   "source": [
    "canvas[149:220,300-50:300+50]=[0,0,225]\n",
    "canvas[204:220,300-50:300+50]=[0]"
   ]
  },
  {
   "cell_type": "code",
   "execution_count": 500,
   "id": "a1159cd1",
   "metadata": {},
   "outputs": [],
   "source": [
    "slope=np.tan(np.pi/4)\n",
    "coeff= 390 - np.tan(np.pi/4)*230 \n",
    "for i in  range(121,230):\n",
    "    for j in range(0,4):\n",
    "        canvas[int(slope*i + coeff+j)-13,i ] = [0]"
   ]
  },
  {
   "cell_type": "code",
   "execution_count": 498,
   "id": "475944fe",
   "metadata": {},
   "outputs": [],
   "source": [
    "slope=np.tan(-np.pi/6)\n",
    "coeff= 390 - np.tan(np.pi/6)*360 \n",
    "for i in  range(360,451):\n",
    "    for j in range(0,4):\n",
    "        canvas[400+int(slope*i + coeff+j),i ] = [0]"
   ]
  },
  {
   "cell_type": "code",
   "execution_count": 499,
   "id": "effd5d61",
   "metadata": {},
   "outputs": [],
   "source": [
    "display(canvas)"
   ]
  }
 ],
 "metadata": {
  "kernelspec": {
   "display_name": "Python 3 (ipykernel)",
   "language": "python",
   "name": "python3"
  },
  "language_info": {
   "codemirror_mode": {
    "name": "ipython",
    "version": 3
   },
   "file_extension": ".py",
   "mimetype": "text/x-python",
   "name": "python",
   "nbconvert_exporter": "python",
   "pygments_lexer": "ipython3",
   "version": "3.11.4"
  }
 },
 "nbformat": 4,
 "nbformat_minor": 5
}
